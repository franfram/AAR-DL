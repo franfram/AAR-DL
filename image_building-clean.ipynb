{
 "cells": [
  {
   "cell_type": "markdown",
   "metadata": {},
   "source": [
    "maybe the problem is in using ctrl enter vs clicking on run cell? when you click on run cell, jupyter variables panel appear, which doesn't happen with ctrl enter. "
   ]
  },
  {
   "cell_type": "markdown",
   "metadata": {},
   "source": [
    "maybe the problem comes from having stats['acc']['ptp'] = stats['acc']['max'] - stats['acc']['min'] appear on get_normalization_stats function (i think this is how the guy did it) instead of in update_stats function. \n"
   ]
  },
  {
   "cell_type": "code",
   "execution_count": null,
   "metadata": {
    "scrolled": true
   },
   "outputs": [],
   "source": [
    "#!pip3 install pandas\n",
    "#!pip3 install matplotlib\n",
    "#!pip3 install Pillow\n",
    "#!pip3 install pyts\n",
    "#!pip3 install tifffile"
   ]
  },
  {
   "cell_type": "code",
   "execution_count": 7,
   "metadata": {},
   "outputs": [],
   "source": [
    "# Forays into deep learning: Transfer Learning and fast.ai. \n",
    "\n",
    "# BLOG POST https://towardsdatascience.com/foray-into-deep-learning-transfer-learning-and-fast-ai-ca0c44c03874\n",
    "# REPO https://github.com/chr0nikler/HumanActivityRecognition\n",
    "# PAPER http://kilyos.ee.bilkent.edu.tr/~billur/publ_list/cj14.pdf\n",
    "# DATASET https://archive.ics.uci.edu/ml/datasets/Daily+and+Sports+Activities\n",
    "\n",
    "# Data set characteristics: Multivariate time-series\n",
    "# Attribute characteristics: Real\n",
    "# Associated Tasks: Classification, Clustering\n",
    "# Number of instances: 9120\n",
    "# Number of attributes: 5625\n",
    "\n",
    "\n"
   ]
  },
  {
   "cell_type": "code",
   "execution_count": 1,
   "metadata": {},
   "outputs": [],
   "source": [
    "from pyprojroot import here\n",
    "from PIL import Image\n",
    "import matplotlib.pyplot as plt\n",
    "import pandas as pd\n",
    "import re\n",
    "import os\n",
    "import numpy as np"
   ]
  },
  {
   "cell_type": "markdown",
   "metadata": {},
   "source": [
    "First thing first is to inspect the data, see what it looks like. I don't care about where the data is right now, just want to see it. We will worry about the data layout and creating images from that stuff later."
   ]
  },
  {
   "cell_type": "code",
   "execution_count": 2,
   "metadata": {},
   "outputs": [],
   "source": [
    "# String object\n",
    "data_path = './datap/b_1/sheep_1/segment_1'\n",
    "\n",
    "# feature_labels = [\n",
    "#     'sheep_name', \n",
    "#     'sheep_number', \n",
    "#     'year', \n",
    "#     'month', \n",
    "#     'day',\n",
    "#     'hour',\n",
    "#     'minutes',\n",
    "#     'seconds',\n",
    "#     'event'\n",
    "# ]\n",
    "\n",
    "# Dictionary \n",
    "predicted_labels_map = {\n",
    "    'b_1': 'eating',\n",
    "    'b_2': 'resting',\n",
    "    'b_3': 'vigilance',\n",
    "}\n"
   ]
  },
  {
   "cell_type": "code",
   "execution_count": 3,
   "metadata": {},
   "outputs": [],
   "source": [
    "# DataFrame object\n",
    "s01 = pd.read_csv(data_path, header = 0).filter(regex = 'acc', axis = 1)\n",
    "\n"
   ]
  },
  {
   "cell_type": "code",
   "execution_count": 4,
   "metadata": {},
   "outputs": [
    {
     "data": {
      "text/html": [
       "<div>\n",
       "<style scoped>\n",
       "    .dataframe tbody tr th:only-of-type {\n",
       "        vertical-align: middle;\n",
       "    }\n",
       "\n",
       "    .dataframe tbody tr th {\n",
       "        vertical-align: top;\n",
       "    }\n",
       "\n",
       "    .dataframe thead th {\n",
       "        text-align: right;\n",
       "    }\n",
       "</style>\n",
       "<table border=\"1\" class=\"dataframe\">\n",
       "  <thead>\n",
       "    <tr style=\"text-align: right;\">\n",
       "      <th></th>\n",
       "      <th>acc_x</th>\n",
       "      <th>acc_y</th>\n",
       "      <th>acc_z</th>\n",
       "    </tr>\n",
       "  </thead>\n",
       "  <tbody>\n",
       "    <tr>\n",
       "      <th>0</th>\n",
       "      <td>0.911865</td>\n",
       "      <td>-0.203857</td>\n",
       "      <td>0.467773</td>\n",
       "    </tr>\n",
       "    <tr>\n",
       "      <th>1</th>\n",
       "      <td>0.791992</td>\n",
       "      <td>-0.083984</td>\n",
       "      <td>0.323975</td>\n",
       "    </tr>\n",
       "    <tr>\n",
       "      <th>2</th>\n",
       "      <td>0.779785</td>\n",
       "      <td>0.023926</td>\n",
       "      <td>0.299805</td>\n",
       "    </tr>\n",
       "    <tr>\n",
       "      <th>3</th>\n",
       "      <td>0.815918</td>\n",
       "      <td>0.035889</td>\n",
       "      <td>0.395996</td>\n",
       "    </tr>\n",
       "    <tr>\n",
       "      <th>4</th>\n",
       "      <td>0.839844</td>\n",
       "      <td>-0.095947</td>\n",
       "      <td>0.527832</td>\n",
       "    </tr>\n",
       "    <tr>\n",
       "      <th>...</th>\n",
       "      <td>...</td>\n",
       "      <td>...</td>\n",
       "      <td>...</td>\n",
       "    </tr>\n",
       "    <tr>\n",
       "      <th>195</th>\n",
       "      <td>0.803955</td>\n",
       "      <td>-0.203857</td>\n",
       "      <td>0.395996</td>\n",
       "    </tr>\n",
       "    <tr>\n",
       "      <th>196</th>\n",
       "      <td>0.791992</td>\n",
       "      <td>-0.251953</td>\n",
       "      <td>0.419922</td>\n",
       "    </tr>\n",
       "    <tr>\n",
       "      <th>197</th>\n",
       "      <td>0.791992</td>\n",
       "      <td>-0.323975</td>\n",
       "      <td>0.431885</td>\n",
       "    </tr>\n",
       "    <tr>\n",
       "      <th>198</th>\n",
       "      <td>0.815918</td>\n",
       "      <td>-0.359863</td>\n",
       "      <td>0.467773</td>\n",
       "    </tr>\n",
       "    <tr>\n",
       "      <th>199</th>\n",
       "      <td>0.863770</td>\n",
       "      <td>-0.251953</td>\n",
       "      <td>0.467773</td>\n",
       "    </tr>\n",
       "  </tbody>\n",
       "</table>\n",
       "<p>200 rows × 3 columns</p>\n",
       "</div>"
      ],
      "text/plain": [
       "        acc_x     acc_y     acc_z\n",
       "0    0.911865 -0.203857  0.467773\n",
       "1    0.791992 -0.083984  0.323975\n",
       "2    0.779785  0.023926  0.299805\n",
       "3    0.815918  0.035889  0.395996\n",
       "4    0.839844 -0.095947  0.527832\n",
       "..        ...       ...       ...\n",
       "195  0.803955 -0.203857  0.395996\n",
       "196  0.791992 -0.251953  0.419922\n",
       "197  0.791992 -0.323975  0.431885\n",
       "198  0.815918 -0.359863  0.467773\n",
       "199  0.863770 -0.251953  0.467773\n",
       "\n",
       "[200 rows x 3 columns]"
      ]
     },
     "execution_count": 4,
     "metadata": {},
     "output_type": "execute_result"
    }
   ],
   "source": [
    "s01\n",
    "# 200 rows are due to 40Hz sampling frequency times 5 sec segment"
   ]
  },
  {
   "cell_type": "markdown",
   "metadata": {},
   "source": [
    "Data frame looks as we expect it to. Some summary statistics to get a feel for the data"
   ]
  },
  {
   "cell_type": "code",
   "execution_count": 5,
   "metadata": {},
   "outputs": [
    {
     "data": {
      "text/html": [
       "<div>\n",
       "<style scoped>\n",
       "    .dataframe tbody tr th:only-of-type {\n",
       "        vertical-align: middle;\n",
       "    }\n",
       "\n",
       "    .dataframe tbody tr th {\n",
       "        vertical-align: top;\n",
       "    }\n",
       "\n",
       "    .dataframe thead th {\n",
       "        text-align: right;\n",
       "    }\n",
       "</style>\n",
       "<table border=\"1\" class=\"dataframe\">\n",
       "  <thead>\n",
       "    <tr style=\"text-align: right;\">\n",
       "      <th></th>\n",
       "      <th>acc_x</th>\n",
       "      <th>acc_y</th>\n",
       "      <th>acc_z</th>\n",
       "    </tr>\n",
       "  </thead>\n",
       "  <tbody>\n",
       "    <tr>\n",
       "      <th>count</th>\n",
       "      <td>200.000000</td>\n",
       "      <td>200.000000</td>\n",
       "      <td>200.000000</td>\n",
       "    </tr>\n",
       "    <tr>\n",
       "      <th>mean</th>\n",
       "      <td>0.853263</td>\n",
       "      <td>-0.203704</td>\n",
       "      <td>0.453842</td>\n",
       "    </tr>\n",
       "    <tr>\n",
       "      <th>std</th>\n",
       "      <td>0.054977</td>\n",
       "      <td>0.074180</td>\n",
       "      <td>0.079385</td>\n",
       "    </tr>\n",
       "    <tr>\n",
       "      <th>min</th>\n",
       "      <td>0.719971</td>\n",
       "      <td>-0.419922</td>\n",
       "      <td>0.275879</td>\n",
       "    </tr>\n",
       "    <tr>\n",
       "      <th>25%</th>\n",
       "      <td>0.815918</td>\n",
       "      <td>-0.230835</td>\n",
       "      <td>0.395996</td>\n",
       "    </tr>\n",
       "    <tr>\n",
       "      <th>50%</th>\n",
       "      <td>0.851807</td>\n",
       "      <td>-0.191895</td>\n",
       "      <td>0.455811</td>\n",
       "    </tr>\n",
       "    <tr>\n",
       "      <th>75%</th>\n",
       "      <td>0.887939</td>\n",
       "      <td>-0.167969</td>\n",
       "      <td>0.515869</td>\n",
       "    </tr>\n",
       "    <tr>\n",
       "      <th>max</th>\n",
       "      <td>0.995850</td>\n",
       "      <td>0.035889</td>\n",
       "      <td>0.659912</td>\n",
       "    </tr>\n",
       "  </tbody>\n",
       "</table>\n",
       "</div>"
      ],
      "text/plain": [
       "            acc_x       acc_y       acc_z\n",
       "count  200.000000  200.000000  200.000000\n",
       "mean     0.853263   -0.203704    0.453842\n",
       "std      0.054977    0.074180    0.079385\n",
       "min      0.719971   -0.419922    0.275879\n",
       "25%      0.815918   -0.230835    0.395996\n",
       "50%      0.851807   -0.191895    0.455811\n",
       "75%      0.887939   -0.167969    0.515869\n",
       "max      0.995850    0.035889    0.659912"
      ]
     },
     "execution_count": 5,
     "metadata": {},
     "output_type": "execute_result"
    }
   ],
   "source": [
    "s01.describe()\n",
    "\n"
   ]
  },
  {
   "cell_type": "markdown",
   "metadata": {},
   "source": [
    "Expectations are that accelerations have larger numbers in general, but everything else is pretty small. The dataset will require normalization for proper image conversion. Lets graph some of the acceleration data, just for the T. "
   ]
  },
  {
   "cell_type": "code",
   "execution_count": 6,
   "metadata": {},
   "outputs": [
    {
     "name": "stdout",
     "output_type": "stream",
     "text": [
      "200\n",
      "range(0, 200)\n"
     ]
    },
    {
     "data": {
      "text/plain": [
       "[<matplotlib.lines.Line2D at 0x7f0a15f780d0>]"
      ]
     },
     "execution_count": 6,
     "metadata": {},
     "output_type": "execute_result"
    },
    {
     "data": {
      "image/png": "[encoded data removed]",
      "text/plain": [
       "<Figure size 432x288 with 3 Axes>"
      ]
     },
     "metadata": {
      "needs_background": "light"
     },
     "output_type": "display_data"
    }
   ],
   "source": [
    "# where's this 'time' object being used??? doesn't seem to be used elsewhere\n",
    "# len is an nrow\n",
    "time = range(len(s01))\n",
    "print(len(s01))\n",
    "print(time)\n",
    "\n",
    "\n",
    "\n",
    "plt.subplot(3,1,1)\n",
    "plt.plot(s01['acc_x'])\n",
    "plt.subplot(3,1,2)\n",
    "plt.plot(s01['acc_y'])\n",
    "plt.subplot(3,1,3)\n",
    "plt.plot(s01['acc_z'])"
   ]
  },
  {
   "cell_type": "markdown",
   "metadata": {},
   "source": [
    "Note the y axis is different, so on one graph this would look different, but the standard deviation is not too different, so the shapes look mostly the same (more action in the x and z axes than the y axis)"
   ]
  },
  {
   "cell_type": "markdown",
   "metadata": {},
   "source": [
    "For now, let's branch off into just grabbing the acceleration stats. That's all I'm interested in right now. Later, if we want to use all the features, it should be trivial to account for the rest and produce image representations based on that, as long as our mapping is consistent"
   ]
  },
  {
   "cell_type": "markdown",
   "metadata": {},
   "source": [
    "I use the simple strategy described in [this paper](https://www.researchgate.net/publication/259899616_Images_in_mind_-_Design_metaphor_and_method_to_classify_driver_distraction_in_critical_situations) to generate images from these variables. \n",
    "Steps necessary are\n",
    "\n",
    "1. Normalize each feature BY SENSOR. If we normalize T_xacc separate from T_yacc, we lose the information that for some activity, there was a lot of acceleration in the x, but no y_acc (m' this is done by having the np.max determined across all columns, same with np.min, that is, the np.max is the max value of the whole data-frame containing the acc data, not the max of each column (acc axis)). This occurs per sensor type because gyroscopes, accelerometers, and magnetometers operate in different units. This also needs to be done by aggregating the data across all segments, not just per segment, because then information loss occurs between different activities. \n",
    "2. Convert range of [0,1] to [0,255] for grayscale\n",
    "3. Save images "
   ]
  },
  {
   "cell_type": "markdown",
   "metadata": {},
   "source": [
    "What follows is a quick test of the above flow before tackling it across the data"
   ]
  },
  {
   "cell_type": "code",
   "execution_count": 7,
   "metadata": {},
   "outputs": [
    {
     "name": "stdout",
     "output_type": "stream",
     "text": [
      "[ 0.911865  -0.203857   0.467773   0.791992  -0.0839844  0.323975\n",
      "  0.779785   0.0239258  0.299805   0.815918   0.0358887  0.395996\n",
      "  0.839844  -0.0959473  0.527832   0.887939  -0.167969   0.539795\n",
      "  0.899902  -0.119873   0.455811   0.851807  -0.0717773  0.407959\n",
      "  0.815918  -0.0839844  0.443848   0.827881  -0.167969   0.47998\n",
      "  0.815918  -0.227783   0.407959   0.827881  -0.287842   0.3479\n",
      "  0.875977  -0.323975   0.383789   0.887939  -0.323975   0.323975\n",
      "  0.86377   -0.287842   0.323975   0.86377   -0.251953   0.359863\n",
      "  0.911865  -0.227783   0.47998    0.899902  -0.191895   0.539795\n",
      "  0.851807  -0.167969   0.467773   0.86377   -0.10791    0.395996\n",
      "  0.887939  -0.155762   0.47998    0.935791  -0.203857   0.563965\n",
      "  0.935791  -0.203857   0.551758   0.911865  -0.203857   0.467773\n",
      "  0.875977  -0.21582    0.383789   0.875977  -0.191895   0.335938\n",
      "  0.839844  -0.191895   0.335938   0.851807  -0.155762   0.419922\n",
      "  0.911865  -0.179932   0.563965   0.851807  -0.179932   0.515869\n",
      "  0.851807  -0.179932   0.431885   0.851807  -0.167969   0.395996\n",
      "  0.875977  -0.167969   0.335938   0.875977  -0.179932   0.359863\n",
      "  0.887939  -0.203857   0.431885   0.887939  -0.275879   0.467773\n",
      "  0.923828  -0.203857   0.443848   0.959961  -0.203857   0.455811\n",
      "  0.827881  -0.179932   0.407959   0.875977  -0.167969   0.383789\n",
      "  0.923828  -0.179932   0.467773   0.911865  -0.191895   0.503906\n",
      "  0.971924  -0.167969   0.455811   0.983887  -0.179932   0.515869\n",
      "  0.959961  -0.191895   0.419922   0.911865  -0.203857   0.3479\n",
      "  0.815918  -0.203857   0.275879   0.803955  -0.191895   0.323975\n",
      "  0.815918  -0.155762   0.359863   0.86377   -0.155762   0.551758\n",
      "  0.839844  -0.155762   0.587891   0.827881  -0.179932   0.443848\n",
      "  0.803955  -0.167969   0.407959   0.851807  -0.191895   0.455811\n",
      "  0.851807  -0.251953   0.431885   0.851807  -0.263916   0.359863\n",
      "  0.899902  -0.227783   0.371826   0.935791  -0.227783   0.431885\n",
      "  0.887939  -0.287842   0.515869   0.851807  -0.263916   0.575928\n",
      "  0.803955  -0.23999    0.491943   0.827881  -0.203857   0.3479\n",
      "  0.839844  -0.203857   0.383789   0.839844  -0.155762   0.359863\n",
      "  0.827881  -0.143799   0.371826   0.803955  -0.167969   0.443848\n",
      "  0.815918  -0.143799   0.407959   0.875977  -0.155762   0.335938\n",
      "  0.911865  -0.179932   0.419922   0.875977  -0.21582    0.503906\n",
      "  0.839844  -0.21582    0.47998    0.887939  -0.227783   0.467773\n",
      "  0.911865  -0.263916   0.491943   0.947998  -0.227783   0.491943\n",
      "  0.99585   -0.203857   0.491943   0.99585   -0.191895   0.527832\n",
      "  0.887939  -0.131836   0.383789   0.827881  -0.0717773  0.287842\n",
      "  0.815918  -0.0839844  0.383789   0.779785  -0.143799   0.527832\n",
      "  0.743896  -0.179932   0.515869   0.779785  -0.203857   0.431885\n",
      "  0.803955  -0.203857   0.419922   0.815918  -0.203857   0.455811\n",
      "  0.779785  -0.191895   0.455811   0.791992  -0.191895   0.503906\n",
      "  0.779785  -0.179932   0.515869   0.803955  -0.167969   0.491943\n",
      "  0.791992  -0.167969   0.395996   0.827881  -0.179932   0.335938\n",
      "  0.86377   -0.179932   0.395996   0.875977  -0.191895   0.515869\n",
      "  0.887939  -0.323975   0.527832   0.839844  -0.287842   0.383789\n",
      "  0.803955  -0.23999    0.3479     0.815918  -0.21582    0.359863\n",
      "  0.887939  -0.203857   0.431885   0.911865  -0.311768   0.563965\n",
      "  0.899902  -0.287842   0.551758   0.887939  -0.23999    0.491943\n",
      "  0.827881  -0.203857   0.395996   0.827881  -0.203857   0.383789\n",
      "  0.839844  -0.21582    0.431885   0.839844  -0.21582    0.491943\n",
      "  0.815918  -0.227783   0.503906   0.815918  -0.191895   0.47998\n",
      "  0.815918  -0.191895   0.443848   0.827881  -0.179932   0.371826\n",
      "  0.827881  -0.191895   0.395996   0.851807  -0.191895   0.443848\n",
      "  0.86377   -0.191895   0.503906   0.86377   -0.191895   0.527832\n",
      "  0.851807  -0.167969   0.467773   0.851807  -0.203857   0.383789\n",
      "  0.887939  -0.287842   0.491943   0.899902  -0.335938   0.47998\n",
      "  0.935791  -0.23999    0.575928   0.959961  -0.263916   0.491943\n",
      "  0.911865  -0.383789   0.383789   0.875977  -0.359863   0.335938\n",
      "  0.899902  -0.0358887  0.467773   0.899902   0.0119629  0.563965\n",
      "  0.839844  -0.0839844  0.623779   0.791992  -0.143799   0.515869\n",
      "  0.719971  -0.155762   0.323975   0.743896  -0.155762   0.395996\n",
      "  0.827881  -0.143799   0.527832   0.899902  -0.143799   0.575928\n",
      "  0.911865  -0.179932   0.527832   0.839844  -0.191895   0.491943\n",
      "  0.803955  -0.191895   0.455811   0.779785  -0.191895   0.455811\n",
      "  0.791992  -0.251953   0.311768   0.86377   -0.323975   0.395996\n",
      "  0.899902  -0.359863   0.515869   0.899902  -0.371826   0.563965\n",
      "  0.851807  -0.3479     0.431885   0.851807  -0.263916   0.371826\n",
      "  0.827881  -0.21582    0.395996   0.839844  -0.155762   0.503906\n",
      "  0.827881  -0.179932   0.611816   0.86377   -0.155762   0.587891\n",
      "  0.815918  -0.179932   0.527832   0.803955  -0.179932   0.407959\n",
      "  0.767822  -0.179932   0.3479     0.779785  -0.191895   0.419922\n",
      "  0.887939  -0.275879   0.659912   0.911865  -0.263916   0.551758\n",
      "  0.851807  -0.227783   0.47998    0.767822  -0.203857   0.383789\n",
      "  0.743896  -0.203857   0.395996   0.755859  -0.251953   0.431885\n",
      "  0.767822  -0.23999    0.455811   0.899902  -0.323975   0.575928\n",
      "  0.887939  -0.359863   0.515869   0.827881  -0.275879   0.455811\n",
      "  0.767822  -0.191895   0.431885   0.767822  -0.0959473  0.407959\n",
      "  0.767822  -0.0839844  0.431885   0.875977  -0.143799   0.47998\n",
      "  0.947998  -0.21582    0.563965   0.983887  -0.287842   0.647949\n",
      "  0.947998  -0.335938   0.551758   0.947998  -0.359863   0.539795\n",
      "  0.899902  -0.335938   0.515869   0.779785  -0.179932   0.3479\n",
      "  0.767822  -0.119873   0.287842   0.779785  -0.0959473  0.287842\n",
      "  0.827881  -0.131836   0.431885   0.923828  -0.179932   0.455811\n",
      "  0.935791  -0.191895   0.503906   0.875977  -0.167969   0.527832\n",
      "  0.803955  -0.143799   0.419922   0.791992  -0.143799   0.455811\n",
      "  0.791992  -0.143799   0.491943   0.803955  -0.167969   0.515869\n",
      "  0.851807  -0.3479     0.503906   0.911865  -0.395996   0.515869\n",
      "  0.899902  -0.419922   0.587891   0.851807  -0.3479     0.527832\n",
      "  0.827881  -0.227783   0.443848   0.803955  -0.203857   0.419922\n",
      "  0.791992  -0.143799   0.431885   0.767822  -0.0717773  0.407959\n",
      "  0.779785  -0.0717773  0.371826   0.875977  -0.131836   0.527832\n",
      "  0.923828  -0.227783   0.599854   0.947998  -0.263916   0.635986\n",
      "  0.86377   -0.227783   0.431885   0.86377   -0.203857   0.383789\n",
      "  0.827881  -0.203857   0.455811   0.803955  -0.203857   0.611816\n",
      "  0.86377   -0.203857   0.563965   0.875977  -0.191895   0.527832\n",
      "  0.86377   -0.191895   0.515869   0.803955  -0.203857   0.395996\n",
      "  0.791992  -0.251953   0.419922   0.791992  -0.323975   0.431885\n",
      "  0.815918  -0.359863   0.467773   0.86377   -0.251953   0.467773 ]\n"
     ]
    }
   ],
   "source": [
    "\n",
    "# s01 is an object created by doing a read_csv on 'data_path \n",
    "# so all this is being done on only 1 segment of 1 person of 1 activity????? \n",
    "# yes but later there are functions that will applly to all segments of all \n",
    "# people of all activities\n",
    "\n",
    "# 'step' objects created by me to understand the code \n",
    "\n",
    "# step 1 keeps columns that have 'acc' inside their name. 'axis=1' means to apply the filter to columns. We are left with 15 columns and 125 rows\n",
    "# step1 = s01.filter(regex='acc$', axis=1)\n",
    "# print(step1)\n",
    "\n",
    "# step2 removes column names and just gives you the values\n",
    "# step2 = step1.values\n",
    "# print(step2)\n",
    "\n",
    "\n",
    "# This step flattens row-wise (because of default arg-value of the function)\n",
    "# step3 = step2.flatten()\n",
    "# print(step3)\n",
    "\n",
    "acceleration_data = s01.values.flatten()\n",
    "\n",
    "\n",
    "print(acceleration_data)\n",
    "# print(acceleration_data.shape) # this results in a vector of length 600, which equals 3 * 200  (3 acc axis * 200 rows)\n",
    "# print(len(acceleration_data)) # same as with .shape\n",
    "\n",
    "\n",
    "\n",
    "\n",
    "\n",
    "\n",
    "\n",
    "\n",
    "\n",
    "# in python a lambda function is an anonymous function. \n",
    "# ptp comes from \"peak to peak\". Gives range of values (maximum - minimum) along an axis. \n",
    "# pd.apply defaults to columns. wtf '1 or columns: applies to rows'\n",
    "# this 'normalized' object does 2 things: normalization to 0-1 and then scaling to 0-255\n",
    "#normalized = s01.apply(lambda x: 255 * (x - acceleration_data.min())/np.ptp(acceleration_data))\n",
    "# normalized\n"
   ]
  },
  {
   "cell_type": "code",
   "execution_count": 8,
   "metadata": {
    "scrolled": true
   },
   "outputs": [
    {
     "data": {
      "text/html": [
       "<div>\n",
       "<style scoped>\n",
       "    .dataframe tbody tr th:only-of-type {\n",
       "        vertical-align: middle;\n",
       "    }\n",
       "\n",
       "    .dataframe tbody tr th {\n",
       "        vertical-align: top;\n",
       "    }\n",
       "\n",
       "    .dataframe thead th {\n",
       "        text-align: right;\n",
       "    }\n",
       "</style>\n",
       "<table border=\"1\" class=\"dataframe\">\n",
       "  <thead>\n",
       "    <tr style=\"text-align: right;\">\n",
       "      <th></th>\n",
       "      <th>acc_x</th>\n",
       "      <th>acc_y</th>\n",
       "      <th>acc_z</th>\n",
       "    </tr>\n",
       "  </thead>\n",
       "  <tbody>\n",
       "    <tr>\n",
       "      <th>count</th>\n",
       "      <td>200.000000</td>\n",
       "      <td>200.000000</td>\n",
       "      <td>200.000000</td>\n",
       "    </tr>\n",
       "    <tr>\n",
       "      <th>mean</th>\n",
       "      <td>189.259292</td>\n",
       "      <td>73.788171</td>\n",
       "      <td>152.779505</td>\n",
       "    </tr>\n",
       "    <tr>\n",
       "      <th>std</th>\n",
       "      <td>14.802480</td>\n",
       "      <td>24.139981</td>\n",
       "      <td>22.606527</td>\n",
       "    </tr>\n",
       "    <tr>\n",
       "      <th>min</th>\n",
       "      <td>141.299088</td>\n",
       "      <td>0.000000</td>\n",
       "      <td>64.981001</td>\n",
       "    </tr>\n",
       "    <tr>\n",
       "      <th>25%</th>\n",
       "      <td>180.267922</td>\n",
       "      <td>60.089217</td>\n",
       "      <td>141.299088</td>\n",
       "    </tr>\n",
       "    <tr>\n",
       "      <th>50%</th>\n",
       "      <td>188.398738</td>\n",
       "      <td>75.541274</td>\n",
       "      <td>151.049487</td>\n",
       "    </tr>\n",
       "    <tr>\n",
       "      <th>75%</th>\n",
       "      <td>198.149273</td>\n",
       "      <td>89.307612</td>\n",
       "      <td>164.039189</td>\n",
       "    </tr>\n",
       "    <tr>\n",
       "      <th>max</th>\n",
       "      <td>230.639232</td>\n",
       "      <td>144.538255</td>\n",
       "      <td>255.000000</td>\n",
       "    </tr>\n",
       "  </tbody>\n",
       "</table>\n",
       "</div>"
      ],
      "text/plain": [
       "            acc_x       acc_y       acc_z\n",
       "count  200.000000  200.000000  200.000000\n",
       "mean   189.259292   73.788171  152.779505\n",
       "std     14.802480   24.139981   22.606527\n",
       "min    141.299088    0.000000   64.981001\n",
       "25%    180.267922   60.089217  141.299088\n",
       "50%    188.398738   75.541274  151.049487\n",
       "75%    198.149273   89.307612  164.039189\n",
       "max    230.639232  144.538255  255.000000"
      ]
     },
     "execution_count": 8,
     "metadata": {},
     "output_type": "execute_result"
    }
   ],
   "source": [
    "\n",
    "normalized.describe()\n"
   ]
  },
  {
   "cell_type": "code",
   "execution_count": 9,
   "metadata": {},
   "outputs": [
    {
     "name": "stdout",
     "output_type": "stream",
     "text": [
      "[[190 190 183 181 181 186 193 196 196 193 188 183 180 178 180 177 173 175\n",
      "  183 186 188 188 185 188 181 177 178 170 191 204 204 201 170 154 167 191\n",
      "  207 219 229 212 181 191 183 177 164 186 207 216 211 175 165 164 170 170\n",
      "  175 188 194 188 188 188 191 186 190 194 203 181 175 173 175 186 191 183\n",
      "  180 177 185 190 194 191 181 193 204 207 191 190 190 185 178 180 180 185\n",
      "  193 201 203 212 207 183 172 170 173 177 194 212 216 201 177 180 190 188\n",
      "  188 196 198 191 193 193 196 198 193 198 207 212 209 183 164 157 180 190\n",
      "  194 186 209 201 188 188 181 180 190 201 201 191 203 209 198 190 212 222\n",
      "  209 190 167 172 185 194 183 188 186 185 198 196 186 181 193 191 186 194\n",
      "  198 198 209 216 214 206 194 188 180 186 181 172 152 144 141 147 211 230\n",
      "  219 204 191 172 168 168 167 178 190 199 198 190 198 201 203 207 191 183\n",
      "  183 175]\n",
      " [ 53  55  69  79  66  60  60  66  76  90  94  89  86  86 102 103 102  94\n",
      "   76  38  45  60  66  86  86  84  82  69  81  77  84 115 116 113 129 144\n",
      "  110 108  87  11   0  17  42  50  86  66  97  86  60  40  50  68  89  97\n",
      "  100  95  84  87  97  76  53  43  48  56  64  73  90 102 105  92  86  90\n",
      "  100 105 110  97  77  42   3  12  48  64 105 110 110 110 110  84  60  45\n",
      "   38  40  48  74  94 116 113  99  82  68  40  22  16  34  68  82  95 102\n",
      "  105  82  69  63  61  60  68  87  86  71  64  73  86  87  97 102  73  66\n",
      "   64  63  64  61  60  66  81  82  81  77  68  60  73  82  95  81  55  37\n",
      "   47  76  86  86  84  71  51  60  64  73  73  71  77  82  82  69  77  79\n",
      "   68  61  60  56  94  89  89  86  77  81  77  71  43  50  55  69  64  64\n",
      "   51  45  51  68  82  94  95  71  51  29  34  58  45  40  32  32  66  86\n",
      "   99 108]\n",
      " [149 162 170 172 155 151 157 155 165 170 172 160 154 154 160 162 155 152\n",
      "  154 141 139 144 147 167 172 162 170 141 147 167 170 155 144 139 131 146\n",
      "  199 242 255 188  97 108  90  64 103 201 229 207 165 113 105 110 128 146\n",
      "  157 167 178 177 154 159 183 178 162 149 144 125 121 121 133 185 181 170\n",
      "  159 165 164 151 138 129 125 129 152 165 168 165 162 159 149 144 136 134\n",
      "  141 147 147 165 173 172 162 149 139 131 141 155 165 164 136 129 136 142\n",
      "  152 157 154 144 138 141 144 151 155 149 147 151 164 165 144 129 136 149\n",
      "  149 146 160 154 147 147 146 144 146 155 162 131 128 139 146 162 191 193\n",
      "  172 147 121 120 128 141 149 155 152 141 162 162 144 133 138 139 146 152\n",
      "  155 136 149 146 175 175 165 157 149 162 160 154 126 123 120 125 154 172\n",
      "  178 190 188 177 162 155 146 142 142 147 149 151 149 139 133 134 154 164\n",
      "  173 173]]\n"
     ]
    },
    {
     "data": {
      "image/png": "[encoded data removed]",
      "text/plain": [
       "<Figure size 432x288 with 1 Axes>"
      ]
     },
     "metadata": {
      "needs_background": "light"
     },
     "output_type": "display_data"
    }
   ],
   "source": [
    "\n",
    "# print(data_path)\n",
    "img_array = normalized.to_numpy().astype(np.uint8).T\n",
    "print(img_array)\n",
    "\n",
    "\n",
    "im = Image.fromarray(img_array)\n",
    "# print(im)\n",
    "\n",
    "plt.imshow(img_array, cmap='Greys')\n",
    "\n",
    "\n",
    "im.save('a01p58s101.png') # I don't think this is right\n"
   ]
  },
  {
   "cell_type": "markdown",
   "metadata": {},
   "source": [
    "The below, until the end, does the actual data reading, normalization, and image saving"
   ]
  },
  {
   "cell_type": "code",
   "execution_count": 21,
   "metadata": {},
   "outputs": [],
   "source": [
    "# Initiate 'stats' dictionary for functions below\n",
    "stats = {'acc': {}}\n"
   ]
  },
  {
   "cell_type": "code",
   "execution_count": 25,
   "metadata": {},
   "outputs": [],
   "source": [
    "def update_stats(df):\n",
    "    # Filter df to only contain acc columns, extract values, flatten, and then \n",
    "    # compute min and max stats\n",
    "    acc_data = df.filter(regex='acc', axis=1).values.flatten()\n",
    "    stats['acc']['min'] = acc_data.min()\n",
    "    stats['acc']['max'] = acc_data.max()\n",
    "    stats['acc']['ptp'] = stats['acc']['max'] - stats['acc']['min']\n",
    "\n",
    "\n",
    "def get_normalization_stats(path):\n",
    "    # Get all paths to segment files files\n",
    "    for dirName, subDirs, fileList in os.walk(path):\n",
    "        if('segment_1.txt' in fileList):\n",
    "            for file in fileList:\n",
    "                # Read data as csv and keep columns that contain 'acc'\n",
    "                df = read_data(os.path.join(dirName,file))\n",
    "                # compute min and max stats for all data\n",
    "                update_stats(df)\n",
    "    # compute peak to peak (ptp)\n",
    "    #stats['acc']['ptp'] = stats['acc']['max'] - stats['acc']['min']\n",
    "\n",
    "def create_images(data_path, save_path):\n",
    "    \n",
    "    for dirName, subDirs, fileList in os.walk(data_path):\n",
    "        #if('segment_1.txt' in fileList):\n",
    "            for file in fileList:\n",
    "                # Create normalized df\n",
    "                df = create_normalized_df(os.path.join(dirName,file))\n",
    "                # Only care about acc right now.\n",
    "                df = df.filter(regex='acc', axis=1)\n",
    "                # Create image from df, create image name, and save in path\n",
    "                save_image(df, os.path.join(dirName,file), save_path)\n",
    "                \n",
    "            \n",
    "def save_image(df, original_path, save_path):\n",
    "    # Create image name from original_path (e.g., 'eating_sheep_58_segment_101.png')\n",
    "    image_name = create_image_name(original_path)\n",
    "    # Create array of numbers\n",
    "    img_array = df.to_numpy().astype(np.uint8).T\n",
    "    # Create image from array\n",
    "    im = Image.fromarray(img_array)\n",
    "    # Save image\n",
    "    im.save(os.path.join(save_path,image_name))\n",
    "    \n",
    "def create_image_name(original_path):\n",
    "    # Create list with dirName, subDirs, and file \n",
    "    # (e.g., 'b_1, sheep_58, segment_101.txt')\n",
    "    ## .split('/') will give us the list of strings between `/`\n",
    "    ## the [2:] will keep from the 3rd value on. i.e., leave out the '.' and 'datap'\n",
    "    unlabeled_data = original_path.split('/')[2:]\n",
    "    # Replace dirName with predicted_labels_map (e.g., 'b_1' with 'eating')\n",
    "    unlabeled_data[0] = predicted_labels_map[unlabeled_data[0]].replace(' ', '_')\n",
    "    # Join unlabeled_data elements using '_' as separator,  and\n",
    "    # replace '.txt' with '.png'\n",
    "    return'_'.join(unlabeled_data).replace('.txt', '.png')\n",
    "            \n",
    "def read_data(path):\n",
    "    # Read data as csv and keep those columns that contain 'acc'\n",
    "    return pd.read_csv(path, header=0).filter(regex='acc', axis=1)\n",
    "      \n",
    "def create_normalized_df(path):\n",
    "        ## TODO reject column_regex if it is not one of\n",
    "        # acc$, gyro$, mag$, reject\n",
    "        df = read_data(path)\n",
    "        #column_key = regex[:len(regex)-1]\n",
    "        acc_df = df.filter(regex='acc', axis=1).apply(lambda x: round(255 * (x - stats['acc']['min'])/stats['acc']['ptp']))\n",
    "        \n",
    "        return acc_df\n",
    "         "
   ]
  },
  {
   "cell_type": "code",
   "execution_count": 39,
   "metadata": {},
   "outputs": [],
   "source": [
    "# !pwd\n",
    "# data_path = './datap/b_1/sheep_58/segment_101'\n",
    "# s01 = pd.read_csv(data_path, header = 0).filter(regex = 'acc', axis = 1)\n",
    "df = pd.read_csv('./datap/b_1/sheep_1/segment_1', header=0).filter(regex='acc', axis=1) \n",
    "# print(df)\n",
    "acc_data = df.filter(regex='acc', axis=1)#.values.flatten()\n",
    "# print(acc_data)\n",
    "stats['acc']['min'] = acc_data.min()\n",
    "stats['acc']['max'] = acc_data.max()\n",
    "stats['acc']['ptp'] = stats['acc']['max'] - stats['acc']['min']"
   ]
  },
  {
   "cell_type": "markdown",
   "metadata": {},
   "source": [
    "so this stats thing seems to work for './datap/b_1/sheep_1/segment_1' but not in the function, and the function seems to be right. Maybe the fail happens with a certain file? \n",
    "Lets check it with a loop"
   ]
  },
  {
   "cell_type": "code",
   "execution_count": 19,
   "metadata": {},
   "outputs": [],
   "source": [
    "\n",
    "# for dirName, subDirs, fileList in os.walk(data_path):\n",
    "#     if('segment_1.txt' in fileList): # delete this to check if it works\n",
    "#         for file in fileList:\n",
    "#             # Create normalized df\n",
    "#             df = create_normalized_df(os.path.join(dirName,file))\n",
    "\n",
    "\n",
    "# for dirName, subDirs, fileList in os.walk(data_path):\n",
    "#     if('segment_1.txt' in fileList): # delete this to check if it works\n",
    "#         print(\"YEAH\")\n",
    "\n",
    "data_path = './datap'\n",
    "walked_paths = os.walk(data_path)"
   ]
  },
  {
   "cell_type": "code",
   "execution_count": 26,
   "metadata": {},
   "outputs": [
    {
     "name": "stdout",
     "output_type": "stream",
     "text": [
      "/home/franfram/AAR-DL\n"
     ]
    },
    {
     "ename": "KeyError",
     "evalue": "'max'",
     "output_type": "error",
     "traceback": [
      "\u001b[0;31m---------------------------------------------------------------------------\u001b[0m",
      "\u001b[0;31mKeyError\u001b[0m                                  Traceback (most recent call last)",
      "\u001b[1;32m/home/franfram/AAR-DL/image_building-clean.ipynb Cell 27'\u001b[0m in \u001b[0;36m<cell line: 4>\u001b[0;34m()\u001b[0m\n\u001b[1;32m      <a href='vscode-notebook-cell:/home/franfram/AAR-DL/image_building-clean.ipynb#ch0000027?line=1'>2</a>\u001b[0m data_path \u001b[39m=\u001b[39m \u001b[39m'\u001b[39m\u001b[39m./datap\u001b[39m\u001b[39m'\u001b[39m\n\u001b[1;32m      <a href='vscode-notebook-cell:/home/franfram/AAR-DL/image_building-clean.ipynb#ch0000027?line=2'>3</a>\u001b[0m save_path \u001b[39m=\u001b[39m \u001b[39m'\u001b[39m\u001b[39m./images\u001b[39m\u001b[39m'\u001b[39m\n\u001b[0;32m----> <a href='vscode-notebook-cell:/home/franfram/AAR-DL/image_building-clean.ipynb#ch0000027?line=3'>4</a>\u001b[0m get_normalization_stats(data_path)\n",
      "\u001b[1;32m/home/franfram/AAR-DL/image_building-clean.ipynb Cell 23'\u001b[0m in \u001b[0;36mget_normalization_stats\u001b[0;34m(path)\u001b[0m\n\u001b[1;32m     <a href='vscode-notebook-cell:/home/franfram/AAR-DL/image_building-clean.ipynb#ch0000023?line=17'>18</a>\u001b[0m             update_stats(df)\n\u001b[1;32m     <a href='vscode-notebook-cell:/home/franfram/AAR-DL/image_building-clean.ipynb#ch0000023?line=18'>19</a>\u001b[0m \u001b[39m# compute peak to peak (ptp)\u001b[39;00m\n\u001b[0;32m---> <a href='vscode-notebook-cell:/home/franfram/AAR-DL/image_building-clean.ipynb#ch0000023?line=19'>20</a>\u001b[0m stats[\u001b[39m'\u001b[39m\u001b[39macc\u001b[39m\u001b[39m'\u001b[39m][\u001b[39m'\u001b[39m\u001b[39mptp\u001b[39m\u001b[39m'\u001b[39m] \u001b[39m=\u001b[39m stats[\u001b[39m'\u001b[39;49m\u001b[39macc\u001b[39;49m\u001b[39m'\u001b[39;49m][\u001b[39m'\u001b[39;49m\u001b[39mmax\u001b[39;49m\u001b[39m'\u001b[39;49m] \u001b[39m-\u001b[39m stats[\u001b[39m'\u001b[39m\u001b[39macc\u001b[39m\u001b[39m'\u001b[39m][\u001b[39m'\u001b[39m\u001b[39mmin\u001b[39m\u001b[39m'\u001b[39m]\n",
      "\u001b[0;31mKeyError\u001b[0m: 'max'"
     ]
    }
   ],
   "source": [
    "!pwd\n",
    "data_path = './datap'\n",
    "save_path = './images'\n",
    "get_normalization_stats(data_path)\n",
    "\n"
   ]
  },
  {
   "cell_type": "markdown",
   "metadata": {},
   "source": [
    "We can see that the stats have been populated. With them, we'll normalized each segement of data and create an image for it. \n",
    "\n",
    "**Note**: I've read that using ptp can be dangerous if there is a 0 difference array, and that borrowing `minmax_scale` from sklearn might be more appropriate.\n",
    "!!!!!!!!!!!!!!!!!!!!!!!!!!!!!!!!!!!!!!!!!!!!!!!!!!!!!!!!!!!!!!!!!!!!!!!!!!!!!!!!!!!!!!!!!!!!!!!!!!!!!!!!!!!!!!!!!!!!!!!!!!!!!!!!!!!!!!!!!!!!!!!!!!!!!!!!!!!!!!!!!!!!!!!!\n",
    "!!!!!!!!!!!!!!!!!!!!!!!!!!!!!!!!!!!!!!!!!!!!!!!!!!!!!!!!!!!!!!!!!!!!!!!!!!!!!!!!!!!!!!!!!!!!!!!!!!!!!!!!!!!!!!!!!!!!!!!!!!!!!!!!!!!!!!!!!!!!!!!!!!!!!!!!!!!!!!!!!!!!!!!!\n",
    "!!!!!!!!!!!!!!!!!!!!!!!!!!!!!!!!!!!!!!!!!!!!!!!!!!!!!!!!!!!!!!!!!!!!!!!!!!!!!!!!!!!!!!!!!!!!!!!!!!!!!!!!!!!!!!!!!!!!!!!!!!!!!!!!!!!!!!!!!!!!!!!!!!!!!!!!!!!!!!!!!!!!!!!!\n",
    "!!!!!!!!!!!!!!!!!!!!!!!!!!!!!!!!!!!!!!!!!!!!!!!!!!!!!!!!!!!!!!!!!!!!!!!!!!!!!!!!!!!!!!!!!!!!!!!!!!!!!!!!!!!!!!!!!!!!!!!!!!!!!!!!!!!!!!!!!!!!!!!!!!!!!!!!!!!!!!!!!!!!!!!!\n",
    "!!!!!!!!!!!!!!!!!!!!!!!!!!!!!!!!!!!!!!!!!!!!!!!!!!!!!!!!!!!!!!!!!!!!!!!!!!!!!!!!!!!!!!!!!!!!!!!!!!!!!!!!!!!!!!!!!!!!!!!!!!!!!!!!!!!!!!!!!!!!!!!!!!!!!!!!!!!!!!!!!!!!!!!!\n",
    "!!!!!!!!!!!!!!!!!!!!!!!!!!!!!!!!!!!!!!!!!!!!!!!!!!!!!!!!!!!!!!!!!!!!!!!!!!!!!!!!!!!!!!!!!!!!!!!!!!!!!!!!!!!!!!!!!!!!!!!!!!!!!!!!!!!!!!!!!!!!!!!!!!!!!!!!!!!!!!!!!!!!!!!!\n",
    "!!!!!!!!!!!!!!!!!!!!!!!!!!!!!!!!!!!!!!!!!!!!!!!!!!!!!!!!!!!!!!!!!!!!!!!!!!!!!!!!!!!!!!!!!!!!!!!!!!!!!!!!!!!!!!!!!!!!!!!!!!!!!!!!!!!!!!!!!!!!!!!!!!!!!!!!!!!!!!!!!!!!!!!!\n",
    "!!!!!!!!!!!!!!!!!!!!!!!!!!!!!!!!!!!!!!!!!!!!!!!!!!!!!!!!!!!!!!!!!!!!!!!!!!!!!!!!!!!!!!!!!!!!!!!!!!!!!!!!!!!!!!!!!!!!!!!!!!!!!!!!!!!!!!!!!!!!!!!!!!!!!!!!!!!!!!!!!!!!!!!!"
   ]
  },
  {
   "cell_type": "code",
   "execution_count": 23,
   "metadata": {},
   "outputs": [
    {
     "ename": "UnicodeDecodeError",
     "evalue": "'utf-8' codec can't decode byte 0x89 in position 0: invalid start byte",
     "output_type": "error",
     "traceback": [
      "\u001b[0;31m---------------------------------------------------------------------------\u001b[0m",
      "\u001b[0;31mUnicodeDecodeError\u001b[0m                        Traceback (most recent call last)",
      "\u001b[1;32m/home/franfram/AAR-DL/image_building-clean.ipynb Cell 29'\u001b[0m in \u001b[0;36m<cell line: 1>\u001b[0;34m()\u001b[0m\n\u001b[0;32m----> <a href='vscode-notebook-cell:/home/franfram/AAR-DL/image_building-clean.ipynb#ch0000029?line=0'>1</a>\u001b[0m create_images(data_path, save_path)\n",
      "\u001b[1;32m/home/franfram/AAR-DL/image_building-clean.ipynb Cell 23'\u001b[0m in \u001b[0;36mcreate_images\u001b[0;34m(data_path, save_path)\u001b[0m\n\u001b[1;32m     <a href='vscode-notebook-cell:/home/franfram/AAR-DL/image_building-clean.ipynb#ch0000023?line=23'>24</a>\u001b[0m \u001b[39mfor\u001b[39;00m dirName, subDirs, fileList \u001b[39min\u001b[39;00m os\u001b[39m.\u001b[39mwalk(data_path):\n\u001b[1;32m     <a href='vscode-notebook-cell:/home/franfram/AAR-DL/image_building-clean.ipynb#ch0000023?line=24'>25</a>\u001b[0m     \u001b[39m#if('segment_1.txt' in fileList):\u001b[39;00m\n\u001b[1;32m     <a href='vscode-notebook-cell:/home/franfram/AAR-DL/image_building-clean.ipynb#ch0000023?line=25'>26</a>\u001b[0m         \u001b[39mfor\u001b[39;00m file \u001b[39min\u001b[39;00m fileList:\n\u001b[1;32m     <a href='vscode-notebook-cell:/home/franfram/AAR-DL/image_building-clean.ipynb#ch0000023?line=26'>27</a>\u001b[0m             \u001b[39m# Create normalized df\u001b[39;00m\n\u001b[0;32m---> <a href='vscode-notebook-cell:/home/franfram/AAR-DL/image_building-clean.ipynb#ch0000023?line=27'>28</a>\u001b[0m             df \u001b[39m=\u001b[39m create_normalized_df(os\u001b[39m.\u001b[39;49mpath\u001b[39m.\u001b[39;49mjoin(dirName,file))\n\u001b[1;32m     <a href='vscode-notebook-cell:/home/franfram/AAR-DL/image_building-clean.ipynb#ch0000023?line=28'>29</a>\u001b[0m             \u001b[39m# Only care about acc right now.\u001b[39;00m\n\u001b[1;32m     <a href='vscode-notebook-cell:/home/franfram/AAR-DL/image_building-clean.ipynb#ch0000023?line=29'>30</a>\u001b[0m             df \u001b[39m=\u001b[39m df\u001b[39m.\u001b[39mfilter(regex\u001b[39m=\u001b[39m\u001b[39m'\u001b[39m\u001b[39macc\u001b[39m\u001b[39m'\u001b[39m, axis\u001b[39m=\u001b[39m\u001b[39m1\u001b[39m)\n",
      "\u001b[1;32m/home/franfram/AAR-DL/image_building-clean.ipynb Cell 23'\u001b[0m in \u001b[0;36mcreate_normalized_df\u001b[0;34m(path)\u001b[0m\n\u001b[1;32m     <a href='vscode-notebook-cell:/home/franfram/AAR-DL/image_building-clean.ipynb#ch0000023?line=60'>61</a>\u001b[0m \u001b[39mdef\u001b[39;00m \u001b[39mcreate_normalized_df\u001b[39m(path):\n\u001b[1;32m     <a href='vscode-notebook-cell:/home/franfram/AAR-DL/image_building-clean.ipynb#ch0000023?line=61'>62</a>\u001b[0m         \u001b[39m## TODO reject column_regex if it is not one of\u001b[39;00m\n\u001b[1;32m     <a href='vscode-notebook-cell:/home/franfram/AAR-DL/image_building-clean.ipynb#ch0000023?line=62'>63</a>\u001b[0m         \u001b[39m# acc$, gyro$, mag$, reject\u001b[39;00m\n\u001b[0;32m---> <a href='vscode-notebook-cell:/home/franfram/AAR-DL/image_building-clean.ipynb#ch0000023?line=63'>64</a>\u001b[0m         df \u001b[39m=\u001b[39m read_data(path)\n\u001b[1;32m     <a href='vscode-notebook-cell:/home/franfram/AAR-DL/image_building-clean.ipynb#ch0000023?line=64'>65</a>\u001b[0m         \u001b[39m#column_key = regex[:len(regex)-1]\u001b[39;00m\n\u001b[1;32m     <a href='vscode-notebook-cell:/home/franfram/AAR-DL/image_building-clean.ipynb#ch0000023?line=65'>66</a>\u001b[0m         acc_df \u001b[39m=\u001b[39m df\u001b[39m.\u001b[39mfilter(regex\u001b[39m=\u001b[39m\u001b[39m'\u001b[39m\u001b[39macc\u001b[39m\u001b[39m'\u001b[39m, axis\u001b[39m=\u001b[39m\u001b[39m1\u001b[39m)\u001b[39m.\u001b[39mapply(\u001b[39mlambda\u001b[39;00m x: \u001b[39mround\u001b[39m(\u001b[39m255\u001b[39m \u001b[39m*\u001b[39m (x \u001b[39m-\u001b[39m stats[\u001b[39m'\u001b[39m\u001b[39macc\u001b[39m\u001b[39m'\u001b[39m][\u001b[39m'\u001b[39m\u001b[39mmin\u001b[39m\u001b[39m'\u001b[39m])\u001b[39m/\u001b[39mstats[\u001b[39m'\u001b[39m\u001b[39macc\u001b[39m\u001b[39m'\u001b[39m][\u001b[39m'\u001b[39m\u001b[39mptp\u001b[39m\u001b[39m'\u001b[39m]))\n",
      "\u001b[1;32m/home/franfram/AAR-DL/image_building-clean.ipynb Cell 23'\u001b[0m in \u001b[0;36mread_data\u001b[0;34m(path)\u001b[0m\n\u001b[1;32m     <a href='vscode-notebook-cell:/home/franfram/AAR-DL/image_building-clean.ipynb#ch0000023?line=56'>57</a>\u001b[0m \u001b[39mdef\u001b[39;00m \u001b[39mread_data\u001b[39m(path):\n\u001b[1;32m     <a href='vscode-notebook-cell:/home/franfram/AAR-DL/image_building-clean.ipynb#ch0000023?line=57'>58</a>\u001b[0m     \u001b[39m# Read data as csv and keep those columns that contain 'acc'\u001b[39;00m\n\u001b[0;32m---> <a href='vscode-notebook-cell:/home/franfram/AAR-DL/image_building-clean.ipynb#ch0000023?line=58'>59</a>\u001b[0m     \u001b[39mreturn\u001b[39;00m pd\u001b[39m.\u001b[39;49mread_csv(path, header\u001b[39m=\u001b[39;49m\u001b[39m0\u001b[39;49m)\u001b[39m.\u001b[39mfilter(regex\u001b[39m=\u001b[39m\u001b[39m'\u001b[39m\u001b[39macc\u001b[39m\u001b[39m'\u001b[39m, axis\u001b[39m=\u001b[39m\u001b[39m1\u001b[39m)\n",
      "File \u001b[0;32m~/anaconda3/envs/aar/lib/python3.8/site-packages/pandas/util/_decorators.py:311\u001b[0m, in \u001b[0;36mdeprecate_nonkeyword_arguments.<locals>.decorate.<locals>.wrapper\u001b[0;34m(*args, **kwargs)\u001b[0m\n\u001b[1;32m    <a href='file:///home/franfram/anaconda3/envs/aar/lib/python3.8/site-packages/pandas/util/_decorators.py?line=304'>305</a>\u001b[0m \u001b[39mif\u001b[39;00m \u001b[39mlen\u001b[39m(args) \u001b[39m>\u001b[39m num_allow_args:\n\u001b[1;32m    <a href='file:///home/franfram/anaconda3/envs/aar/lib/python3.8/site-packages/pandas/util/_decorators.py?line=305'>306</a>\u001b[0m     warnings\u001b[39m.\u001b[39mwarn(\n\u001b[1;32m    <a href='file:///home/franfram/anaconda3/envs/aar/lib/python3.8/site-packages/pandas/util/_decorators.py?line=306'>307</a>\u001b[0m         msg\u001b[39m.\u001b[39mformat(arguments\u001b[39m=\u001b[39marguments),\n\u001b[1;32m    <a href='file:///home/franfram/anaconda3/envs/aar/lib/python3.8/site-packages/pandas/util/_decorators.py?line=307'>308</a>\u001b[0m         \u001b[39mFutureWarning\u001b[39;00m,\n\u001b[1;32m    <a href='file:///home/franfram/anaconda3/envs/aar/lib/python3.8/site-packages/pandas/util/_decorators.py?line=308'>309</a>\u001b[0m         stacklevel\u001b[39m=\u001b[39mstacklevel,\n\u001b[1;32m    <a href='file:///home/franfram/anaconda3/envs/aar/lib/python3.8/site-packages/pandas/util/_decorators.py?line=309'>310</a>\u001b[0m     )\n\u001b[0;32m--> <a href='file:///home/franfram/anaconda3/envs/aar/lib/python3.8/site-packages/pandas/util/_decorators.py?line=310'>311</a>\u001b[0m \u001b[39mreturn\u001b[39;00m func(\u001b[39m*\u001b[39;49margs, \u001b[39m*\u001b[39;49m\u001b[39m*\u001b[39;49mkwargs)\n",
      "File \u001b[0;32m~/anaconda3/envs/aar/lib/python3.8/site-packages/pandas/io/parsers/readers.py:680\u001b[0m, in \u001b[0;36mread_csv\u001b[0;34m(filepath_or_buffer, sep, delimiter, header, names, index_col, usecols, squeeze, prefix, mangle_dupe_cols, dtype, engine, converters, true_values, false_values, skipinitialspace, skiprows, skipfooter, nrows, na_values, keep_default_na, na_filter, verbose, skip_blank_lines, parse_dates, infer_datetime_format, keep_date_col, date_parser, dayfirst, cache_dates, iterator, chunksize, compression, thousands, decimal, lineterminator, quotechar, quoting, doublequote, escapechar, comment, encoding, encoding_errors, dialect, error_bad_lines, warn_bad_lines, on_bad_lines, delim_whitespace, low_memory, memory_map, float_precision, storage_options)\u001b[0m\n\u001b[1;32m    <a href='file:///home/franfram/anaconda3/envs/aar/lib/python3.8/site-packages/pandas/io/parsers/readers.py?line=664'>665</a>\u001b[0m kwds_defaults \u001b[39m=\u001b[39m _refine_defaults_read(\n\u001b[1;32m    <a href='file:///home/franfram/anaconda3/envs/aar/lib/python3.8/site-packages/pandas/io/parsers/readers.py?line=665'>666</a>\u001b[0m     dialect,\n\u001b[1;32m    <a href='file:///home/franfram/anaconda3/envs/aar/lib/python3.8/site-packages/pandas/io/parsers/readers.py?line=666'>667</a>\u001b[0m     delimiter,\n\u001b[0;32m   (...)\u001b[0m\n\u001b[1;32m    <a href='file:///home/franfram/anaconda3/envs/aar/lib/python3.8/site-packages/pandas/io/parsers/readers.py?line=675'>676</a>\u001b[0m     defaults\u001b[39m=\u001b[39m{\u001b[39m\"\u001b[39m\u001b[39mdelimiter\u001b[39m\u001b[39m\"\u001b[39m: \u001b[39m\"\u001b[39m\u001b[39m,\u001b[39m\u001b[39m\"\u001b[39m},\n\u001b[1;32m    <a href='file:///home/franfram/anaconda3/envs/aar/lib/python3.8/site-packages/pandas/io/parsers/readers.py?line=676'>677</a>\u001b[0m )\n\u001b[1;32m    <a href='file:///home/franfram/anaconda3/envs/aar/lib/python3.8/site-packages/pandas/io/parsers/readers.py?line=677'>678</a>\u001b[0m kwds\u001b[39m.\u001b[39mupdate(kwds_defaults)\n\u001b[0;32m--> <a href='file:///home/franfram/anaconda3/envs/aar/lib/python3.8/site-packages/pandas/io/parsers/readers.py?line=679'>680</a>\u001b[0m \u001b[39mreturn\u001b[39;00m _read(filepath_or_buffer, kwds)\n",
      "File \u001b[0;32m~/anaconda3/envs/aar/lib/python3.8/site-packages/pandas/io/parsers/readers.py:575\u001b[0m, in \u001b[0;36m_read\u001b[0;34m(filepath_or_buffer, kwds)\u001b[0m\n\u001b[1;32m    <a href='file:///home/franfram/anaconda3/envs/aar/lib/python3.8/site-packages/pandas/io/parsers/readers.py?line=571'>572</a>\u001b[0m _validate_names(kwds\u001b[39m.\u001b[39mget(\u001b[39m\"\u001b[39m\u001b[39mnames\u001b[39m\u001b[39m\"\u001b[39m, \u001b[39mNone\u001b[39;00m))\n\u001b[1;32m    <a href='file:///home/franfram/anaconda3/envs/aar/lib/python3.8/site-packages/pandas/io/parsers/readers.py?line=573'>574</a>\u001b[0m \u001b[39m# Create the parser.\u001b[39;00m\n\u001b[0;32m--> <a href='file:///home/franfram/anaconda3/envs/aar/lib/python3.8/site-packages/pandas/io/parsers/readers.py?line=574'>575</a>\u001b[0m parser \u001b[39m=\u001b[39m TextFileReader(filepath_or_buffer, \u001b[39m*\u001b[39;49m\u001b[39m*\u001b[39;49mkwds)\n\u001b[1;32m    <a href='file:///home/franfram/anaconda3/envs/aar/lib/python3.8/site-packages/pandas/io/parsers/readers.py?line=576'>577</a>\u001b[0m \u001b[39mif\u001b[39;00m chunksize \u001b[39mor\u001b[39;00m iterator:\n\u001b[1;32m    <a href='file:///home/franfram/anaconda3/envs/aar/lib/python3.8/site-packages/pandas/io/parsers/readers.py?line=577'>578</a>\u001b[0m     \u001b[39mreturn\u001b[39;00m parser\n",
      "File \u001b[0;32m~/anaconda3/envs/aar/lib/python3.8/site-packages/pandas/io/parsers/readers.py:933\u001b[0m, in \u001b[0;36mTextFileReader.__init__\u001b[0;34m(self, f, engine, **kwds)\u001b[0m\n\u001b[1;32m    <a href='file:///home/franfram/anaconda3/envs/aar/lib/python3.8/site-packages/pandas/io/parsers/readers.py?line=929'>930</a>\u001b[0m     \u001b[39mself\u001b[39m\u001b[39m.\u001b[39moptions[\u001b[39m\"\u001b[39m\u001b[39mhas_index_names\u001b[39m\u001b[39m\"\u001b[39m] \u001b[39m=\u001b[39m kwds[\u001b[39m\"\u001b[39m\u001b[39mhas_index_names\u001b[39m\u001b[39m\"\u001b[39m]\n\u001b[1;32m    <a href='file:///home/franfram/anaconda3/envs/aar/lib/python3.8/site-packages/pandas/io/parsers/readers.py?line=931'>932</a>\u001b[0m \u001b[39mself\u001b[39m\u001b[39m.\u001b[39mhandles: IOHandles \u001b[39m|\u001b[39m \u001b[39mNone\u001b[39;00m \u001b[39m=\u001b[39m \u001b[39mNone\u001b[39;00m\n\u001b[0;32m--> <a href='file:///home/franfram/anaconda3/envs/aar/lib/python3.8/site-packages/pandas/io/parsers/readers.py?line=932'>933</a>\u001b[0m \u001b[39mself\u001b[39m\u001b[39m.\u001b[39m_engine \u001b[39m=\u001b[39m \u001b[39mself\u001b[39;49m\u001b[39m.\u001b[39;49m_make_engine(f, \u001b[39mself\u001b[39;49m\u001b[39m.\u001b[39;49mengine)\n",
      "File \u001b[0;32m~/anaconda3/envs/aar/lib/python3.8/site-packages/pandas/io/parsers/readers.py:1231\u001b[0m, in \u001b[0;36mTextFileReader._make_engine\u001b[0;34m(self, f, engine)\u001b[0m\n\u001b[1;32m   <a href='file:///home/franfram/anaconda3/envs/aar/lib/python3.8/site-packages/pandas/io/parsers/readers.py?line=1227'>1228</a>\u001b[0m     f \u001b[39m=\u001b[39m \u001b[39mself\u001b[39m\u001b[39m.\u001b[39mhandles\u001b[39m.\u001b[39mhandle\n\u001b[1;32m   <a href='file:///home/franfram/anaconda3/envs/aar/lib/python3.8/site-packages/pandas/io/parsers/readers.py?line=1229'>1230</a>\u001b[0m \u001b[39mtry\u001b[39;00m:\n\u001b[0;32m-> <a href='file:///home/franfram/anaconda3/envs/aar/lib/python3.8/site-packages/pandas/io/parsers/readers.py?line=1230'>1231</a>\u001b[0m     \u001b[39mreturn\u001b[39;00m mapping[engine](f, \u001b[39m*\u001b[39;49m\u001b[39m*\u001b[39;49m\u001b[39mself\u001b[39;49m\u001b[39m.\u001b[39;49moptions)\n\u001b[1;32m   <a href='file:///home/franfram/anaconda3/envs/aar/lib/python3.8/site-packages/pandas/io/parsers/readers.py?line=1231'>1232</a>\u001b[0m \u001b[39mexcept\u001b[39;00m \u001b[39mException\u001b[39;00m:\n\u001b[1;32m   <a href='file:///home/franfram/anaconda3/envs/aar/lib/python3.8/site-packages/pandas/io/parsers/readers.py?line=1232'>1233</a>\u001b[0m     \u001b[39mif\u001b[39;00m \u001b[39mself\u001b[39m\u001b[39m.\u001b[39mhandles \u001b[39mis\u001b[39;00m \u001b[39mnot\u001b[39;00m \u001b[39mNone\u001b[39;00m:\n",
      "File \u001b[0;32m~/anaconda3/envs/aar/lib/python3.8/site-packages/pandas/io/parsers/c_parser_wrapper.py:75\u001b[0m, in \u001b[0;36mCParserWrapper.__init__\u001b[0;34m(self, src, **kwds)\u001b[0m\n\u001b[1;32m     <a href='file:///home/franfram/anaconda3/envs/aar/lib/python3.8/site-packages/pandas/io/parsers/c_parser_wrapper.py?line=71'>72</a>\u001b[0m     kwds\u001b[39m.\u001b[39mpop(key, \u001b[39mNone\u001b[39;00m)\n\u001b[1;32m     <a href='file:///home/franfram/anaconda3/envs/aar/lib/python3.8/site-packages/pandas/io/parsers/c_parser_wrapper.py?line=73'>74</a>\u001b[0m kwds[\u001b[39m\"\u001b[39m\u001b[39mdtype\u001b[39m\u001b[39m\"\u001b[39m] \u001b[39m=\u001b[39m ensure_dtype_objs(kwds\u001b[39m.\u001b[39mget(\u001b[39m\"\u001b[39m\u001b[39mdtype\u001b[39m\u001b[39m\"\u001b[39m, \u001b[39mNone\u001b[39;00m))\n\u001b[0;32m---> <a href='file:///home/franfram/anaconda3/envs/aar/lib/python3.8/site-packages/pandas/io/parsers/c_parser_wrapper.py?line=74'>75</a>\u001b[0m \u001b[39mself\u001b[39m\u001b[39m.\u001b[39m_reader \u001b[39m=\u001b[39m parsers\u001b[39m.\u001b[39;49mTextReader(src, \u001b[39m*\u001b[39;49m\u001b[39m*\u001b[39;49mkwds)\n\u001b[1;32m     <a href='file:///home/franfram/anaconda3/envs/aar/lib/python3.8/site-packages/pandas/io/parsers/c_parser_wrapper.py?line=76'>77</a>\u001b[0m \u001b[39mself\u001b[39m\u001b[39m.\u001b[39munnamed_cols \u001b[39m=\u001b[39m \u001b[39mself\u001b[39m\u001b[39m.\u001b[39m_reader\u001b[39m.\u001b[39munnamed_cols\n\u001b[1;32m     <a href='file:///home/franfram/anaconda3/envs/aar/lib/python3.8/site-packages/pandas/io/parsers/c_parser_wrapper.py?line=78'>79</a>\u001b[0m \u001b[39m# error: Cannot determine type of 'names'\u001b[39;00m\n",
      "File \u001b[0;32m~/anaconda3/envs/aar/lib/python3.8/site-packages/pandas/_libs/parsers.pyx:544\u001b[0m, in \u001b[0;36mpandas._libs.parsers.TextReader.__cinit__\u001b[0;34m()\u001b[0m\n",
      "File \u001b[0;32m~/anaconda3/envs/aar/lib/python3.8/site-packages/pandas/_libs/parsers.pyx:633\u001b[0m, in \u001b[0;36mpandas._libs.parsers.TextReader._get_header\u001b[0;34m()\u001b[0m\n",
      "File \u001b[0;32m~/anaconda3/envs/aar/lib/python3.8/site-packages/pandas/_libs/parsers.pyx:847\u001b[0m, in \u001b[0;36mpandas._libs.parsers.TextReader._tokenize_rows\u001b[0;34m()\u001b[0m\n",
      "File \u001b[0;32m~/anaconda3/envs/aar/lib/python3.8/site-packages/pandas/_libs/parsers.pyx:1952\u001b[0m, in \u001b[0;36mpandas._libs.parsers.raise_parser_error\u001b[0;34m()\u001b[0m\n",
      "\u001b[0;31mUnicodeDecodeError\u001b[0m: 'utf-8' codec can't decode byte 0x89 in position 0: invalid start byte"
     ]
    }
   ],
   "source": [
    "create_images(data_path, save_path)"
   ]
  },
  {
   "cell_type": "code",
   "execution_count": 36,
   "metadata": {},
   "outputs": [
    {
     "name": "stdout",
     "output_type": "stream",
     "text": [
      "0    0\n",
      "1    0\n",
      "dtype: int64\n",
      "0    inf\n",
      "1    inf\n",
      "dtype: float64\n",
      "[[0. 0.]\n",
      " [0. 0.]]\n",
      "[[inf inf]\n",
      " [inf inf]]\n"
     ]
    },
    {
     "name": "stderr",
     "output_type": "stream",
     "text": [
      "/home/franfram/anaconda3/envs/aar/lib/python3.10/site-packages/numpy/core/_methods.py:276: FutureWarning: In a future version, DataFrame.max(axis=None) will return a scalar max over the entire DataFrame. To retain the old behavior, use 'frame.max(axis=0)' or just 'frame.max()'\n",
      "  umr_maximum(a, axis, None, out, keepdims),\n",
      "/home/franfram/anaconda3/envs/aar/lib/python3.10/site-packages/numpy/core/_methods.py:277: FutureWarning: In a future version, DataFrame.min(axis=None) will return a scalar min over the entire DataFrame. To retain the old behavior, use 'frame.min(axis=0)' or just 'frame.min()'\n",
      "  umr_minimum(a, axis, None, None, keepdims),\n",
      "/tmp/ipykernel_9183/1844868659.py:20: RuntimeWarning: divide by zero encountered in true_divide\n",
      "  print(1 / skobject)\n"
     ]
    }
   ],
   "source": [
    "# Testing the problem if there's a 0 difference array and we are using np.ptp instead of sklearn.minmax_scale\n",
    "\n",
    "\n",
    "test = pd.DataFrame(np.array([[1, 1], [1, 1]]))\n",
    "ptpobject = np.ptp(test)\n",
    "print(ptpobject) # not sure why I don't get all 0s and get one 1 \n",
    "\n",
    "# there's no aparent problem in the function itself, the problem may arise when we normalize, because we would be dividing by 0. Maybe sklearn.mimax_scale gives\n",
    "# default value when the difference is 0?\n",
    "\n",
    "print(1 / ptpobject)\n",
    "\n",
    "\n",
    "from sklearn import preprocessing\n",
    "\n",
    "\n",
    "skobject = preprocessing.minmax_scale(test)\n",
    "print(skobject) # here I do get all 0's\n",
    "\n",
    "print(1 / skobject)"
   ]
  },
  {
   "cell_type": "code",
   "execution_count": null,
   "metadata": {},
   "outputs": [],
   "source": []
  },
  {
   "cell_type": "code",
   "execution_count": null,
   "metadata": {},
   "outputs": [],
   "source": []
  }
 ],
 "metadata": {
  "interpreter": {
   "hash": "62a24c9af5358fb131ce0361bbc66ae03d600192cbc01e2c4010b8b4cc9e578d"
  },
  "kernelspec": {
   "display_name": "venv",
   "language": "python",
   "name": "python3"
  },
  "language_info": {
   "codemirror_mode": {
    "name": "ipython",
    "version": 3
   },
   "file_extension": ".py",
   "mimetype": "text/x-python",
   "name": "python",
   "nbconvert_exporter": "python",
   "pygments_lexer": "ipython3",
   "version": "3.8.13"
  }
 },
 "nbformat": 4,
 "nbformat_minor": 4
}
